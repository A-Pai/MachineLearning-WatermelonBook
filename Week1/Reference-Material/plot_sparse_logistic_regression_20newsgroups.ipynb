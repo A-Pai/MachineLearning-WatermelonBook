{
 "cells": [
  {
   "cell_type": "code",
   "execution_count": 1,
   "metadata": {},
   "outputs": [],
   "source": [
    "%matplotlib inline"
   ]
  },
  {
   "cell_type": "markdown",
   "metadata": {},
   "source": [
    "\n",
    "# Multiclass sparse logisitic regression on newgroups20\n",
    "# 基于newgroups20数据集的多类稀疏Ligistic回归\n",
    "\n",
    "Comparison of multinomial logistic L1 vs one-versus-rest L1 logistic regression to classify documents from the newgroups20 dataset. Multinomial logistic regression yields more accurate results and is faster to train on the larger scale dataset.\n",
    "\n",
    "Here we use the l1 sparsity that trims the weights of not informative features to zero. This is good if the goal is to extract the strongly\n",
    "discriminative vocabulary of each class. If the goal is to get the best predictive accuracy, it is better to use the non sparsity-inducing l2 penalty instead.\n",
    "\n",
    "A more traditional (and possibly better) way to predict on a sparse subset of input features would be to use univariate feature selection followed by a traditional (l2-penalised) logistic regression model.\n",
    "\n",
    "基于newgroups20数据集，比较多项式与One-vs-Rest的L1惩罚的Logistic回归分类。多项式Logistic回归能够产生更精确的结果，并且在大规模数据集上训练更快。\n",
    "\n",
    "本例使用L1稀疏度，将非信息特征值的权重设置为零。这样做的好处是在每个分类文章下，可以更精准的提取特征词，通过这些词能更加精准地对文章分类。如果要获得最好的分类预测正确率，最好使用非稀疏的L2惩罚。\n",
    "\n",
    "对于输入特征是稀疏集的数据集进行预测，一种更为传统（可能更好）的方法是使用单变量特征选择，然后使用传统（L2惩罚）Logistic回归模型。"
   ]
  },
  {
   "cell_type": "code",
   "execution_count": 2,
   "metadata": {},
   "outputs": [
    {
     "name": "stdout",
     "output_type": "stream",
     "text": [
      "Automatically created module for IPython interactive environment\n"
     ]
    }
   ],
   "source": [
    "print(__doc__)\n",
    "# Author: Arthur Mensch\n",
    "\n",
    "import time\n",
    "\n",
    "import matplotlib.pyplot as plt\n",
    "import numpy as np\n",
    "\n",
    "from sklearn.datasets import fetch_20newsgroups_vectorized\n",
    "from sklearn.linear_model import LogisticRegression\n",
    "from sklearn.model_selection import train_test_split"
   ]
  },
  {
   "cell_type": "code",
   "execution_count": 3,
   "metadata": {},
   "outputs": [],
   "source": [
    "t0 = time.process_time()\n",
    "\n",
    "# We use SAGA solver\n",
    "# 设置求解方法为saga\n",
    "solver = 'saga'\n",
    "\n",
    "# Turn down for faster run time\n",
    "# 设置少量样本数，加快模型训练运行速度\n",
    "n_samples = 10000\n",
    "\n",
    "# Memorized fetch_rcv1 for faster access\n",
    "# 加载全部集合，包括训练集和测试集\n",
    "dataset = fetch_20newsgroups_vectorized('all')\n",
    "X = dataset.data\n",
    "y = dataset.target\n",
    "# 取前10000条数据\n",
    "X = X[:n_samples]\n",
    "y = y[:n_samples]"
   ]
  },
  {
   "cell_type": "code",
   "execution_count": 4,
   "metadata": {},
   "outputs": [
    {
     "name": "stdout",
     "output_type": "stream",
     "text": [
      "Dataset 20newsgroup, train_samples=9000, n_features=130107, n_classes=20\n"
     ]
    }
   ],
   "source": [
    "# 对数据进行交叉验证，分为90%的训练集，10%的测试集\n",
    "# stratify = y: 依据标签y，按原数据集y中各类比例，分配给train和test，使得train和test中各类数据的比例与原数据集一样。 \n",
    "X_train, X_test, y_train, y_test = train_test_split(X, y,\n",
    "                                                    random_state=42,\n",
    "                                                    stratify=y,\n",
    "                                                    test_size=0.1)\n",
    "# 得到训练集的样本数和特征数\n",
    "train_samples, n_features = X_train.shape\n",
    "# 得到标签的分类总数（一共有多少类）\n",
    "n_classes = np.unique(y).shape[0]\n",
    "\n",
    "print('Dataset 20newsgroup, train_samples=%i, n_features=%i, n_classes=%i'\n",
    "      % (train_samples, n_features, n_classes))"
   ]
  },
  {
   "cell_type": "markdown",
   "metadata": {},
   "source": [
    "20newsgroup数据集，训练数据集有9000个样本，有130107个特征值，20个类别"
   ]
  },
  {
   "cell_type": "code",
   "execution_count": 5,
   "metadata": {},
   "outputs": [
    {
     "name": "stdout",
     "output_type": "stream",
     "text": [
      "[模型：One versus Rest, 求解方法：saga] 迭代次数: 1\n"
     ]
    },
    {
     "name": "stderr",
     "output_type": "stream",
     "text": [
      "E:\\DevSoft\\Python\\Python37\\lib\\site-packages\\sklearn\\linear_model\\sag.py:334: ConvergenceWarning: The max_iter was reached which means the coef_ did not converge\n",
      "  \"the coef_ did not converge\", ConvergenceWarning)\n"
     ]
    },
    {
     "name": "stdout",
     "output_type": "stream",
     "text": [
      "[模型：One versus Rest, 求解方法：saga] 迭代次数: 3\n",
      "ovr模型的测试准确率: 0.7410\n",
      "% ovr模型的非零系数, 每个分类的系数值:\n",
      " [0.27054655 0.66330021 0.80395367 0.73247404 0.67713497 0.73477984\n",
      " 0.40889422 0.48959702 1.01301237 0.56261385 0.60104376 0.332803\n",
      " 0.7094161  0.85083816 0.56876263 0.65715142 0.64408525 0.81163965\n",
      " 0.44271254 0.41120001]\n",
      "ovr模型迭代3次的运行时间(s): 3.62\n",
      "[模型：Multinomial, 求解方法：saga] 迭代次数: 1\n",
      "[模型：Multinomial, 求解方法：saga] 迭代次数: 3\n",
      "[模型：Multinomial, 求解方法：saga] 迭代次数: 7\n",
      "multinomial模型的测试准确率: 0.7450\n",
      "% multinomial模型的非零系数, 每个分类的系数值:\n",
      " [0.13296748 0.11759552 0.13296748 0.13988486 0.1268187  0.16140561\n",
      " 0.15218243 0.09069458 0.07762841 0.12143851 0.14910804 0.10837234\n",
      " 0.18830655 0.1245129  0.168323   0.21828188 0.11605832 0.07839701\n",
      " 0.06917383 0.15602543]\n",
      "multinomial模型迭代7次的运行时间(s): 4.99\n"
     ]
    }
   ],
   "source": [
    "# 设置模型参数\n",
    "models = {'ovr': {'name': 'One versus Rest', 'iters': [1, 3]},\n",
    "          'multinomial': {'name': 'Multinomial', 'iters': [1, 3, 7]}}\n",
    "\n",
    "for model in models:\n",
    "    # Add initial chance-level values for plotting purpose\n",
    "    # 为了绘图，设置初始参数\n",
    "    accuracies = [1 / n_classes]\n",
    "    times = [0]\n",
    "    densities = [1]\n",
    "    \n",
    "    # 获得模型参数（即得到name和iters）\n",
    "    model_params = models[model]\n",
    "\n",
    "    # Small number of epochs for fast runtime\n",
    "    # 用小的迭代次数进行迭代\n",
    "    for this_max_iter in model_params['iters']:\n",
    "        # 打印参数信息\n",
    "        # print('[model=%s, solver=%s] Number of epochs: %s' % (model_params['name'], solver, this_max_iter))\n",
    "        print('[模型：%s, 求解方法：%s] 迭代次数: %s' % (model_params['name'], solver, this_max_iter))\n",
    "        # 设置模型参数，初始化Logistic回归模型\n",
    "        lr = LogisticRegression(solver=solver,\n",
    "                                multi_class=model,\n",
    "                                C=1,\n",
    "                                penalty='l1',\n",
    "                                fit_intercept=True,\n",
    "                                max_iter=this_max_iter,\n",
    "                                random_state=42,\n",
    "                                )\n",
    "        t1 = time.process_time()\n",
    "        # 训练模型\n",
    "        lr.fit(X_train, y_train)\n",
    "        train_time = time.process_time() - t1\n",
    "        \n",
    "        # 交叉验证，预测测试集的分类\n",
    "        y_pred = lr.predict(X_test)\n",
    "        # 得到准确率\n",
    "        accuracy = np.sum(y_pred == y_test) / y_test.shape[0]\n",
    "        # 得到非0特征系数，并求每一行的平均值\n",
    "        density = np.mean(lr.coef_ != 0, axis=1) * 100\n",
    "        # 保存准确率，均值，训练时间\n",
    "        accuracies.append(accuracy)\n",
    "        densities.append(density)\n",
    "        times.append(train_time)\n",
    "    models[model]['times'] = times\n",
    "    models[model]['densities'] = densities\n",
    "    models[model]['accuracies'] = accuracies\n",
    "    # print('Test accuracy for model %s: %.4f' % (model, accuracies[-1]))\n",
    "    # print('%% non-zero coefficients for model %s, per class:\\n %s' % (model, densities[-1]))\n",
    "    # print('Run time (%i epochs) for model %s: %.2f' % (model_params['iters'][-1], model, times[-1]))\n",
    "    # 打印最后一次迭代的模型性能指标\n",
    "    print('%s模型的测试准确率: %.4f' % (model, accuracies[-1]))\n",
    "    print('%% %s模型的非零系数, 每个分类的系数值:\\n %s' % (model, densities[-1]))\n",
    "    print('%s模型迭代%i次的运行时间(s): %.2f' % (model, model_params['iters'][-1], times[-1]))"
   ]
  },
  {
   "cell_type": "code",
   "execution_count": 6,
   "metadata": {},
   "outputs": [
    {
     "name": "stdout",
     "output_type": "stream",
     "text": [
      "本例总运行时间 14.758 s\n"
     ]
    },
    {
     "data": {
      "image/png": "[encoded data removed]",
      "text/plain": [
       "<Figure size 432x288 with 1 Axes>"
      ]
     },
     "metadata": {
      "needs_background": "light"
     },
     "output_type": "display_data"
    }
   ],
   "source": [
    "# 初始化plt\n",
    "fig = plt.figure()\n",
    "ax = fig.add_subplot(111)\n",
    "\n",
    "# 针对两个模型分别绘制折线图\n",
    "for model in models:\n",
    "    name = models[model]['name']\n",
    "    times = models[model]['times']\n",
    "    accuracies = models[model]['accuracies']\n",
    "    # 绘制折线，横坐标为运行时间，纵坐标为模型准确率\n",
    "    ax.plot(times, accuracies, marker='o',\n",
    "            label='Model: %s' % name)\n",
    "    ax.set_xlabel('Train time (s)')\n",
    "    ax.set_ylabel('Test accuracy')\n",
    "ax.legend()\n",
    "fig.suptitle('Multinomial vs One-vs-Rest Logistic L1\\n'\n",
    "             'Dataset %s' % '20newsgroups')\n",
    "fig.tight_layout()\n",
    "fig.subplots_adjust(top=0.85)\n",
    "run_time = time.process_time() - t0\n",
    "# 打印总运行时间\n",
    "# print('Example run in %.3f s' % run_time)\n",
    "print('本例总运行时间 %.3f s' % run_time)\n",
    "plt.show()"
   ]
  },
  {
   "cell_type": "code",
   "execution_count": null,
   "metadata": {},
   "outputs": [],
   "source": []
  }
 ],
 "metadata": {
  "kernelspec": {
   "display_name": "Python 3",
   "language": "python",
   "name": "python3"
  },
  "language_info": {
   "codemirror_mode": {
    "name": "ipython",
    "version": 3
   },
   "file_extension": ".py",
   "mimetype": "text/x-python",
   "name": "python",
   "nbconvert_exporter": "python",
   "pygments_lexer": "ipython3",
   "version": "3.7.2"
  },
  "toc": {
   "base_numbering": 1,
   "nav_menu": {},
   "number_sections": false,
   "sideBar": true,
   "skip_h1_title": false,
   "title_cell": "Table of Contents",
   "title_sidebar": "Contents",
   "toc_cell": false,
   "toc_position": {},
   "toc_section_display": true,
   "toc_window_display": false
  }
 },
 "nbformat": 4,
 "nbformat_minor": 1
}
