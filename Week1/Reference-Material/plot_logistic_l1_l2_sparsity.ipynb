{
 "cells": [
  {
   "cell_type": "code",
   "execution_count": 1,
   "metadata": {},
   "outputs": [],
   "source": [
    "%matplotlib inline"
   ]
  },
  {
   "cell_type": "markdown",
   "metadata": {},
   "source": [
    "\n",
    "# L1 Penalty and Sparsity in Logistic Regression\n",
    "\n",
    "# Logistic回归中的L1惩罚与稀疏性\n",
    "\n",
    "Comparison of the sparsity (percentage of zero coefficients) of solutions when L1 and L2 penalty are used for different values of C. We can see that large values of C give more freedom to the model.  Conversely, smaller values of C constrain the model more. In the L1 penalty case, this leads to sparser solutions.\n",
    "  \n",
    "We classify 8x8 images of digits into two classes: 0-4 against 5-9. The visualization shows coefficients of the models for varying C. \n",
    "  \n",
    "比较在L1和L2惩罚函数不同C值时，解的稀疏程度（系数为0的百分比），我们可以看到当C值越大时，模型的正则化强度越大，但相反，当C值越小时，模型的正则化强度越小，模型的约束程度越大。相同的C值下L1惩罚下，解的稀疏程度会高。  \n",
    "  \n",
    "我们将8x8的手写数字图片分为两类：0-4和5-9。通过可视化展现不同C值下的模型参数。\n"
   ]
  },
  {
   "cell_type": "code",
   "execution_count": 2,
   "metadata": {},
   "outputs": [
    {
     "name": "stdout",
     "output_type": "stream",
     "text": [
      "Automatically created module for IPython interactive environment\n"
     ]
    }
   ],
   "source": [
    "print(__doc__)\n",
    "\n",
    "# Authors: Alexandre Gramfort <alexandre.gramfort@inria.fr>\n",
    "#          Mathieu Blondel <mathieu@mblondel.org>\n",
    "#          Andreas Mueller <amueller@ais.uni-bonn.de>\n",
    "# License: BSD 3 clause\n",
    "\n",
    "import numpy as np\n",
    "import matplotlib.pyplot as plt\n",
    "\n",
    "from sklearn.linear_model import LogisticRegression\n",
    "from sklearn import datasets\n",
    "from sklearn.preprocessing import StandardScaler"
   ]
  },
  {
   "cell_type": "code",
   "execution_count": 3,
   "metadata": {},
   "outputs": [],
   "source": [
    "# 加载手写数字数据集\n",
    "digits = datasets.load_digits()\n",
    "\n",
    "# 分别给数据集和标签集赋值X, y\n",
    "X, y = digits.data, digits.target\n",
    "# 将数据集标准化\n",
    "X = StandardScaler().fit_transform(X)"
   ]
  },
  {
   "cell_type": "code",
   "execution_count": 4,
   "metadata": {},
   "outputs": [],
   "source": [
    "# classify small against large digits\n",
    "# 将标签集分为两类0-4一类，5-9一类\n",
    "y = (y > 4).astype(np.int)"
   ]
  },
  {
   "cell_type": "code",
   "execution_count": 5,
   "metadata": {},
   "outputs": [
    {
     "name": "stdout",
     "output_type": "stream",
     "text": [
      "当C=1.00时\n",
      "L1惩罚项得到的参数稀疏度: 4.69%\n",
      "L1惩罚项的模型性能: 0.9087\n",
      "L2惩罚项得到的参数稀疏度: 4.69%\n",
      "L2惩罚项的模型性能: 0.9037\n",
      "当C=0.10时\n",
      "L1惩罚项得到的参数稀疏度: 26.56%\n",
      "L1惩罚项的模型性能: 0.9009\n",
      "L2惩罚项得到的参数稀疏度: 4.69%\n",
      "L2惩罚项的模型性能: 0.9021\n",
      "当C=0.01时\n",
      "L1惩罚项得到的参数稀疏度: 84.38%\n",
      "L1惩罚项的模型性能: 0.8620\n",
      "L2惩罚项得到的参数稀疏度: 4.69%\n",
      "L2惩罚项的模型性能: 0.8898\n"
     ]
    },
    {
     "data": {
      "image/png": "[encoded data removed]",
      "text/plain": [
       "<Figure size 432x288 with 6 Axes>"
      ]
     },
     "metadata": {},
     "output_type": "display_data"
    }
   ],
   "source": [
    "# Set regularization parameter\n",
    "# 取不同的C值，分别取1，0.1，0.01\n",
    "for i, C in enumerate((1, 0.1, 0.01)):\n",
    "    # turn down tolerance for short training time\n",
    "    # 根据C值得到L1惩罚模型和L2惩罚模型\n",
    "    clf_l1_LR = LogisticRegression(C=C, penalty='l1', tol=0.01, solver='saga')\n",
    "    clf_l2_LR = LogisticRegression(C=C, penalty='l2', tol=0.01, solver='saga')\n",
    "    clf_l1_LR.fit(X, y)\n",
    "    clf_l2_LR.fit(X, y)\n",
    "    \n",
    "    # LR模型的参数向量\n",
    "    coef_l1_LR = clf_l1_LR.coef_.ravel()\n",
    "    coef_l2_LR = clf_l2_LR.coef_.ravel()\n",
    "\n",
    "    # coef_l1_LR contains zeros due to the L1 sparsity inducing norm\n",
    "    # 计算L1和L2惩罚下，模型参数w的稀疏度\n",
    "    sparsity_l1_LR = np.mean(coef_l1_LR == 0) * 100\n",
    "    sparsity_l2_LR = np.mean(coef_l2_LR == 0) * 100\n",
    "    \n",
    "    print(\"当C=%.2f时\" % C)\n",
    "    #print(\"Sparsity with L1 penalty: %.2f%%\" % sparsity_l1_LR)\n",
    "    #print(\"score with L1 penalty: %.4f\" % clf_l1_LR.score(X, y))\n",
    "    #print(\"Sparsity with L2 penalty: %.2f%%\" % sparsity_l2_LR)\n",
    "    #print(\"score with L2 penalty: %.4f\" % clf_l2_LR.score(X, y))\n",
    "    print(\"L1惩罚项得到的参数稀疏度: %.2f%%\" % sparsity_l1_LR)\n",
    "    print(\"L1惩罚项的模型性能: %.4f\" % clf_l1_LR.score(X, y))\n",
    "    print(\"L2惩罚项得到的参数稀疏度: %.2f%%\" % sparsity_l2_LR)\n",
    "    print(\"L2惩罚项的模型性能: %.4f\" % clf_l2_LR.score(X, y))\n",
    "    \n",
    "    # 设置图形展示位置\n",
    "    l1_plot = plt.subplot(3, 2, 2 * i + 1)\n",
    "    l2_plot = plt.subplot(3, 2, 2 * (i + 1))\n",
    "    if i == 0:\n",
    "        l1_plot.set_title(\"L1 penalty\")\n",
    "        l2_plot.set_title(\"L2 penalty\")\n",
    "    \n",
    "    # 展示图片，设置8*8的位图展示\n",
    "    l1_plot.imshow(np.abs(coef_l1_LR.reshape(8, 8)), interpolation='nearest',\n",
    "                   cmap='binary', vmax=1, vmin=0)\n",
    "    l2_plot.imshow(np.abs(coef_l2_LR.reshape(8, 8)), interpolation='nearest',\n",
    "                   cmap='binary', vmax=1, vmin=0)\n",
    "    # 设置C值的展示位置\n",
    "    plt.text(-11, 4, \"C = %.2f\" % C)\n",
    "    \n",
    "    # 不展示任何坐标轴的样式和数据\n",
    "    l1_plot.set_xticks(())\n",
    "    l1_plot.set_yticks(())\n",
    "    l2_plot.set_xticks(())\n",
    "    l2_plot.set_yticks(())\n",
    "\n",
    "plt.show()"
   ]
  },
  {
   "cell_type": "code",
   "execution_count": null,
   "metadata": {},
   "outputs": [],
   "source": []
  }
 ],
 "metadata": {
  "kernelspec": {
   "display_name": "Python 3",
   "language": "python",
   "name": "python3"
  },
  "language_info": {
   "codemirror_mode": {
    "name": "ipython",
    "version": 3
   },
   "file_extension": ".py",
   "mimetype": "text/x-python",
   "name": "python",
   "nbconvert_exporter": "python",
   "pygments_lexer": "ipython3",
   "version": "3.7.2"
  },
  "toc": {
   "base_numbering": 1,
   "nav_menu": {},
   "number_sections": false,
   "sideBar": true,
   "skip_h1_title": false,
   "title_cell": "Table of Contents",
   "title_sidebar": "Contents",
   "toc_cell": false,
   "toc_position": {},
   "toc_section_display": true,
   "toc_window_display": false
  }
 },
 "nbformat": 4,
 "nbformat_minor": 1
}
